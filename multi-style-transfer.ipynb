{
 "cells": [
  {
   "cell_type": "markdown",
   "metadata": {
    "id": "Rtx2WRfM7jc0"
   },
   "source": [
    "# Multi Style Transfer\n",
    "[![Open In Colab](https://colab.research.google.com/assets/colab-badge.svg)](https://colab.research.google.com/github/mdehling/dumoulin-multi-style-transfer/blob/main/multi-style-transfer.ipynb)\n",
    "\n",
    "This notebook lets you try out image stylization using the approach described\n",
    "by Dumoulin, Kudlur, and Shlens in their article _A Learned Representation for\n",
    "Artistic Style_.  For more details, see my\n",
    "github repositories [`dumoulin-multi-style-transfer`](\n",
    "https://github.com/mdehling/dumoulin-multi-style-transfer) and\n",
    "[`nstesia`](https://github.com/mdehling/nstesia)."
   ]
  },
  {
   "cell_type": "code",
   "execution_count": null,
   "metadata": {
    "id": "JyyJROpr7jc4"
   },
   "outputs": [],
   "source": [
    "# At the time of writing, the versions of pip and setuptools provided by colab\n",
    "# do not have full `pyproject.toml` support --- they must be updated before\n",
    "# installing the nstesia package.  This cell will do just that.\n",
    "try:\n",
    "    from google import colab\n",
    "\n",
    "    # Pull everything else from the repository in to the Colab environment.\n",
    "    !git config --global init.defaultBranch main\n",
    "    !git init .\n",
    "    !git remote add origin https://github.com/mdehling/dumoulin-multi-style-transfer.git\n",
    "    !git pull --depth=1 origin main\n",
    "\n",
    "    # These are just to avoid some scary-looking (but harmless) error messages.\n",
    "    !pip uninstall -q -y numba\n",
    "    !pip install -q 'jedi>=0.10'\n",
    "\n",
    "    # Minimum versions required for PEP-660 support.\n",
    "    !pip install -q 'pip>=21.3' 'setuptools>=64'\n",
    "\n",
    "    # Finally install the one we came for.\n",
    "    !pip install -q -r requirements-colab.txt\n",
    "\n",
    "except ImportError:\n",
    "    pass"
   ]
  },
  {
   "cell_type": "code",
   "execution_count": null,
   "metadata": {
    "id": "yExcwRKS7jc7"
   },
   "outputs": [],
   "source": [
    "from IPython.display import display\n",
    "\n",
    "from os import environ as env\n",
    "env['TF_CPP_MIN_LOG_LEVEL'] = '2'               # hide info & warnings\n",
    "env['TF_FORCE_GPU_ALLOW_GROWTH'] = 'true'       # grow GPU memory as needed\n",
    "\n",
    "import tensorflow as tf\n",
    "import nstesia as nst"
   ]
  },
  {
   "cell_type": "markdown",
   "metadata": {},
   "source": [
    "## Loading the Model"
   ]
  },
  {
   "cell_type": "code",
   "execution_count": null,
   "metadata": {},
   "outputs": [],
   "source": [
    "# This will download and unpack the saved model.\n",
    "![ ! -e saved ] && \\\n",
    "    gdown 17eMAQBo9KUmF53nO9Jjyr8cm9je2MoQO && \\\n",
    "    tar xjf saved.tar.bz2 && \\\n",
    "    rm -f saved.tar.bz2"
   ]
  },
  {
   "cell_type": "code",
   "execution_count": null,
   "metadata": {},
   "outputs": [],
   "source": [
    "model = nst.dumoulin_2017.StyleTransferModel.from_saved('saved/model')\n",
    "n_styles = len(model.style_images)"
   ]
  },
  {
   "cell_type": "markdown",
   "metadata": {
    "id": "6uJnxyg5EM7X"
   },
   "source": [
    "## Simple Image Stylization"
   ]
  },
  {
   "cell_type": "code",
   "execution_count": null,
   "metadata": {},
   "outputs": [],
   "source": [
    "def style_vector(indices, weights=None):\n",
    "    if weights is None:\n",
    "        weights = [1.0/len(indices)] * len(indices)\n",
    "    v = tf.add_n([\n",
    "        tf.one_hot(index, n_styles, on_value=weight, dtype=tf.float32)\n",
    "        for index, weight in zip(indices,weights)\n",
    "    ])\n",
    "    return tf.expand_dims(v, axis=0)            # account for batch dimension\n",
    "\n",
    "def show_image(image_tensor):\n",
    "    display(tf.keras.utils.array_to_img(tf.squeeze(image_tensor,axis=0)))"
   ]
  },
  {
   "cell_type": "code",
   "execution_count": null,
   "metadata": {},
   "outputs": [],
   "source": [
    "content_image = nst.io.load_image('img/content/chicago.jpg')\n",
    "pastiche_image = model( (content_image, style_vector([1])) )\n",
    "show_image(pastiche_image)"
   ]
  },
  {
   "cell_type": "code",
   "execution_count": null,
   "metadata": {},
   "outputs": [],
   "source": [
    "content_image = nst.io.load_image('img/content/sunflower.jpg')\n",
    "pastiche_images = [\n",
    "    model((content_image, style_vector([i]))) for i in range(n_styles)\n",
    "]\n",
    "grid_image = nst.image.grid(pastiche_images, ncols=8)\n",
    "show_image(grid_image)"
   ]
  },
  {
   "cell_type": "code",
   "execution_count": null,
   "metadata": {},
   "outputs": [],
   "source": [
    "grid_image = nst.image.grid(model.style_images, ncols=8)\n",
    "show_image(grid_image)"
   ]
  },
  {
   "cell_type": "markdown",
   "metadata": {
    "id": "81GXnrl_DmCR"
   },
   "source": [
    "## Content-Style Grids"
   ]
  },
  {
   "cell_type": "code",
   "execution_count": null,
   "metadata": {
    "id": "FCPRQiuW7jc-"
   },
   "outputs": [],
   "source": [
    "def content_style_grid(image_files, styles):\n",
    "    \"\"\"\n",
    "    Show a grid of stylizations with content images as rows, styles as columns.\n",
    "\n",
    "    Args:\n",
    "        images_files:\n",
    "            A list of strings.  The file names of the content images to load.\n",
    "        styles:\n",
    "            A list of ints.  The indices of the styles to use.\n",
    "\n",
    "    Returns:\n",
    "        An image representing the grid of stylizations.\n",
    "    \"\"\"\n",
    "    content_images = [ nst.io.load_image(file) for file in image_files ]\n",
    "\n",
    "    images = [None] + [model.style_images[index] for index in styles]\n",
    "    for content_image in content_images:\n",
    "        images += [content_image] + [\n",
    "            model((content_image,style_vector([index]))) for index in styles\n",
    "        ]\n",
    "\n",
    "    return nst.image.grid(images, ncols=len(styles)+1)"
   ]
  },
  {
   "cell_type": "code",
   "execution_count": null,
   "metadata": {
    "id": "LtQrk1Px7jc-"
   },
   "outputs": [],
   "source": [
    "# img/results/content-style-matrix-1.png\n",
    "grid_image = content_style_grid(\n",
    "    ['img/content/sunflower.jpg', 'img/content/bochum.jpg'],\n",
    "    styles=[31, 16, 15],\n",
    ")\n",
    "show_image(grid_image)"
   ]
  },
  {
   "cell_type": "code",
   "execution_count": null,
   "metadata": {
    "id": "1a-2BVdD7jc_"
   },
   "outputs": [],
   "source": [
    "# img/results/content-style-matrix-2.png\n",
    "grid_image = content_style_grid(\n",
    "    ['img/content/brad.jpg', 'img/content/karya.jpg'],\n",
    "    styles=[14, 1, 13],\n",
    ")\n",
    "show_image(grid_image)"
   ]
  },
  {
   "cell_type": "markdown",
   "metadata": {},
   "source": [
    "## Mixing Styles"
   ]
  },
  {
   "cell_type": "code",
   "execution_count": null,
   "metadata": {},
   "outputs": [],
   "source": [
    "def style_mix_matrix(content_image, styles, nrows=5, ncols=5):\n",
    "    \"\"\"\n",
    "    Create a Matrix of Mixed Stylizations.\n",
    "\n",
    "    Args:\n",
    "        content_image:\n",
    "            A 4-D tensor of shape `[1,H,W,3]`.\n",
    "        styles:\n",
    "            A 4-tuple of style indices in `0..n_styles`.\n",
    "        nrows:\n",
    "            An integer.  The number of rows of the generated matrix.\n",
    "        ncols:\n",
    "            An integer.  The number of columns of the generated matrix.\n",
    "\n",
    "    Returns:\n",
    "        A 4-D tensor of shape `[1,H',W',3]` representing the mixed style matrix.\n",
    "    \"\"\"\n",
    "    pastiche_images = []\n",
    "    for i in range(nrows):\n",
    "        for j in range(ncols):\n",
    "            # weighted average of the 4 style basis vectors\n",
    "            v = style_vector(styles,\n",
    "                [(nrows-i-1)*(ncols-j-1), (nrows-i-1)*j, i*(ncols-j-1), i*j]\n",
    "            ) / ( (nrows-1)*(ncols-1) )\n",
    "            pastiche_images.append(\n",
    "                model( (content_image,v) )\n",
    "            )\n",
    "\n",
    "    return nst.image.grid(pastiche_images, ncols=ncols)"
   ]
  },
  {
   "cell_type": "code",
   "execution_count": null,
   "metadata": {},
   "outputs": [],
   "source": [
    "# img/results/style-mix-matrix.png\n",
    "content_image = nst.io.load_image('img/content/brad.jpg')\n",
    "style_mix_image = style_mix_matrix(content_image, [9,17,23,28], nrows=4, ncols=4)\n",
    "show_image(style_mix_image)"
   ]
  }
 ],
 "metadata": {
  "colab": {
   "provenance": []
  },
  "gpuClass": "standard",
  "kernelspec": {
   "display_name": "Python 3.7.10 ('base')",
   "language": "python",
   "name": "python3"
  },
  "language_info": {
   "codemirror_mode": {
    "name": "ipython",
    "version": 3
   },
   "file_extension": ".py",
   "mimetype": "text/x-python",
   "name": "python",
   "nbconvert_exporter": "python",
   "pygments_lexer": "ipython3",
   "version": "3.7.13"
  },
  "vscode": {
   "interpreter": {
    "hash": "d4d1e4263499bec80672ea0156c357c1ee493ec2b1c70f0acce89fc37c4a6abe"
   }
  }
 },
 "nbformat": 4,
 "nbformat_minor": 0
}
